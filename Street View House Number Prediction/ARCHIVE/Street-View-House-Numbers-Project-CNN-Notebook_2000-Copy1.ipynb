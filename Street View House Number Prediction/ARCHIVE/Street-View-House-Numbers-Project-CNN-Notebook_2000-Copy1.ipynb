{
 "cells": [
  {
   "cell_type": "markdown",
   "metadata": {},
   "source": [
    "CNN Notebook\n",
    "Project : Street View House Numbers\n",
    "By: Peiyao (Celine) Li , and Kevin Liu"
   ]
  },
  {
   "cell_type": "code",
   "execution_count": 17,
   "metadata": {},
   "outputs": [],
   "source": [
    "# import all libraries\n",
    "import numpy as np\n",
    "import os\n",
    "import matplotlib as mpl\n",
    "import matplotlib.pyplot as plt\n",
    "import matplotlib.image as mpimg\n",
    "import pandas as pd\n",
    "import io\n",
    "from PIL import Image\n",
    "from sklearn import datasets\n",
    "from sklearn.metrics import accuracy_score\n",
    "from scipy.io import loadmat\n",
    "from sklearn import preprocessing\n",
    "import h5py\n",
    "import tensorflow as tf\n",
    "from tensorflow.keras import layers, models\n",
    "\n",
    "import warnings\n",
    "warnings.filterwarnings(action=\"ignore\", message=\"^internal gelsd\")\n",
    "config = tf.ConfigProto()\n",
    "config.gpu_options.allow_growth=True\n",
    "sess = tf.Session(config=config)"
   ]
  },
  {
   "cell_type": "code",
   "execution_count": 18,
   "metadata": {},
   "outputs": [],
   "source": [
    "# loading the dataset from desktop\n",
    "tr_set = \"C:/Users/Celin/Desktop/CelineFirstJupyter/Street_num Final Project/Format 2/train_32x32.mat\"\n",
    "te_set = \"C:/Users/Celin/Desktop/CelineFirstJupyter/Street_num Final Project/Format 2/test_32x32.mat\""
   ]
  },
  {
   "cell_type": "code",
   "execution_count": 19,
   "metadata": {},
   "outputs": [],
   "source": [
    "# format 2 dataset load-in\n",
    "data = loadmat(tr_set)\n",
    "te_data = loadmat(te_set)\n",
    "\n",
    "X_tr, y_tr = data['X'], data['y']\n",
    "X_te, y_te = te_data['X'], te_data['y']"
   ]
  },
  {
   "cell_type": "code",
   "execution_count": 20,
   "metadata": {},
   "outputs": [
    {
     "name": "stdout",
     "output_type": "stream",
     "text": [
      "Training Set Shape Params: <width, height, channels [rgb], # of images>\n",
      "X Shape:  (32, 32, 3, 73257)  y Shape:  (73257, 1)\n"
     ]
    }
   ],
   "source": [
    "# explore training data details\n",
    "print (\"Training Set Shape Params: <width, height, channels [rgb], # of images>\")\n",
    "print(\"X Shape: \", X_tr.shape, \" y Shape: \", y_tr.shape)"
   ]
  },
  {
   "cell_type": "code",
   "execution_count": 21,
   "metadata": {},
   "outputs": [
    {
     "data": {
      "text/plain": [
       "(225045504, 79970304)"
      ]
     },
     "execution_count": 21,
     "metadata": {},
     "output_type": "execute_result"
    }
   ],
   "source": [
    "#explore numbers of pixels in total in each set\n",
    "X_tr.size, X_te.size"
   ]
  },
  {
   "cell_type": "code",
   "execution_count": 22,
   "metadata": {},
   "outputs": [
    {
     "name": "stdout",
     "output_type": "stream",
     "text": [
      "X Shape:  (73257, 32, 32, 3)  y Shape:  (73257,)\n"
     ]
    }
   ],
   "source": [
    "# transpose data to (# of images, width, height, rgb)\n",
    "X_tr, y_tr = X_tr.transpose((3,0,1,2)), y_tr[:,0]\n",
    "X_te, y_te = X_te.transpose((3,0,1,2)), y_te[:,0]\n",
    "print(\"X Shape: \", X_tr.shape, \" y Shape: \", y_tr.shape)"
   ]
  },
  {
   "cell_type": "code",
   "execution_count": 23,
   "metadata": {},
   "outputs": [
    {
     "name": "stdout",
     "output_type": "stream",
     "text": [
      "Counter({1: 5099, 2: 4149, 3: 2882, 4: 2523, 5: 2384, 7: 2019, 6: 1977, 10: 1744, 8: 1660, 9: 1595})\n",
      "Counter({1: 13861, 2: 10585, 3: 8497, 4: 7458, 5: 6882, 6: 5727, 7: 5595, 8: 5045, 10: 4948, 9: 4659})\n"
     ]
    }
   ],
   "source": [
    "#count the number of original data per label n test and training data\n",
    "import collections\n",
    "print(collections.Counter(y_te))\n",
    "print(collections.Counter(y_tr))"
   ]
  },
  {
   "cell_type": "code",
   "execution_count": 24,
   "metadata": {},
   "outputs": [],
   "source": [
    "#take 2000 training data and 400 test data\n",
    "X_tr_new=[]\n",
    "y_tr_new=[]\n",
    "X_te_new=[]\n",
    "y_te_new=[]\n",
    "# y_train_new=list(y_train)\n",
    "# X_train_new=list(X_train)\n",
    "\n",
    "for i in range(1,11):\n",
    "    for a,b in zip(X_tr,y_tr):\n",
    "        if b == i and y_tr_new.count(i)<200:\n",
    "            X_tr_new.append(a)\n",
    "            y_tr_new.append(b)\n",
    "        else:\n",
    "            continue\n",
    "            \n",
    "for i in range(1,11):\n",
    "    for a,b in zip(X_te,y_te):\n",
    "        if b == i and y_te_new.count(i)<80:\n",
    "            X_te_new.append(a)\n",
    "            y_te_new.append(b)\n",
    "        else:\n",
    "            continue"
   ]
  },
  {
   "cell_type": "code",
   "execution_count": 25,
   "metadata": {},
   "outputs": [
    {
     "name": "stdout",
     "output_type": "stream",
     "text": [
      "200\n",
      "80\n",
      "200\n",
      "80\n",
      "200\n",
      "80\n",
      "200\n",
      "80\n",
      "200\n",
      "80\n",
      "200\n",
      "80\n",
      "200\n",
      "80\n",
      "200\n",
      "80\n",
      "200\n",
      "80\n",
      "200\n",
      "80\n"
     ]
    }
   ],
   "source": [
    "#double check the count of each label in the new data\n",
    "for i in range(1,11):\n",
    "    print(y_tr_new.count(i))\n",
    "    print(y_te_new.count(i))"
   ]
  },
  {
   "cell_type": "code",
   "execution_count": 26,
   "metadata": {},
   "outputs": [
    {
     "name": "stdout",
     "output_type": "stream",
     "text": [
      "X Shape:  (2000, 32, 32, 3)  y Shape:  (2000,)\n"
     ]
    }
   ],
   "source": [
    "X_tr=np.array(X_tr_new)\n",
    "y_tr= np.array(y_tr_new)\n",
    "X_te=np.array(X_te_new)\n",
    "y_te= np.array(y_te_new)\n",
    "print(\"X Shape: \", X_tr.shape, \" y Shape: \", y_tr.shape)"
   ]
  },
  {
   "cell_type": "code",
   "execution_count": 27,
   "metadata": {},
   "outputs": [],
   "source": [
    "# explore all the labels , note that 0 was originally labled as 10\n",
    "np.set_printoptions(threshold=np.inf)\n",
    "# print(y_tr)"
   ]
  },
  {
   "cell_type": "code",
   "execution_count": 28,
   "metadata": {},
   "outputs": [],
   "source": [
    "# change all label \"10\" to 0 as shown in images\n",
    "for i in range(len(y_tr)):\n",
    "    if (y_tr[i]==10):\n",
    "        y_tr[i]=0\n",
    "for i in range(len(y_te)):\n",
    "    if (y_te[i]==10):\n",
    "        y_te[i]=0  \n",
    "# print(y_tr)#check to see the new labels"
   ]
  },
  {
   "cell_type": "code",
   "execution_count": 29,
   "metadata": {},
   "outputs": [
    {
     "name": "stdout",
     "output_type": "stream",
     "text": [
      "Training Set (2000, 32, 32, 1)\n",
      "Testing Set (800, 32, 32, 1)\n"
     ]
    }
   ],
   "source": [
    "# convert RGB to grayscale\n",
    "def rgb2gray(img_data):\n",
    "    return np.expand_dims(np.dot(img_data, [0.3, 0.6, 0.1]), axis=3)\n",
    "\n",
    "X_tr_gr = rgb2gray(X_tr).astype(np.float32) # converts gray training set to float values\n",
    "print(\"Training Set\", X_tr_gr.shape)\n",
    "X_tr = X_tr_gr # replace original training set\n",
    "\n",
    "X_te_gr = rgb2gray(X_te).astype(np.float32) # converts gray testing set to float values\n",
    "print(\"Testing Set\", X_te_gr.shape)\n",
    "X_te = X_te_gr # replace original testing set"
   ]
  },
  {
   "cell_type": "code",
   "execution_count": 30,
   "metadata": {},
   "outputs": [
    {
     "data": {
      "image/png": "[encoded data removed]",
      "text/plain": [
       "<Figure size 432x288 with 1 Axes>"
      ]
     },
     "metadata": {
      "needs_background": "light"
     },
     "output_type": "display_data"
    }
   ],
   "source": [
    "# show an example image using gray scale\n",
    "digit_img = X_tr[0].reshape((32,32))\n",
    "plt.imshow(digit_img, cmap='gray')\n",
    "plt.show()"
   ]
  },
  {
   "cell_type": "code",
   "execution_count": 31,
   "metadata": {},
   "outputs": [
    {
     "ename": "ValueError",
     "evalue": "cannot reshape array of size 2048000 into shape (73257,1024)",
     "output_type": "error",
     "traceback": [
      "\u001b[1;31m---------------------------------------------------------------------------\u001b[0m",
      "\u001b[1;31mValueError\u001b[0m                                Traceback (most recent call last)",
      "\u001b[1;32m<ipython-input-31-35b773d78562>\u001b[0m in \u001b[0;36m<module>\u001b[1;34m\u001b[0m\n\u001b[1;32m----> 1\u001b[1;33m \u001b[0mX_tr_resized\u001b[0m \u001b[1;33m=\u001b[0m \u001b[0mX_tr\u001b[0m\u001b[1;33m.\u001b[0m\u001b[0mreshape\u001b[0m\u001b[1;33m(\u001b[0m\u001b[1;36m73257\u001b[0m\u001b[1;33m,\u001b[0m \u001b[1;36m32\u001b[0m\u001b[1;33m*\u001b[0m\u001b[1;36m32\u001b[0m\u001b[1;33m*\u001b[0m\u001b[1;36m1\u001b[0m\u001b[1;33m)\u001b[0m\u001b[1;33m\u001b[0m\u001b[1;33m\u001b[0m\u001b[0m\n\u001b[0m\u001b[0;32m      2\u001b[0m \u001b[0mX_te_resized\u001b[0m \u001b[1;33m=\u001b[0m \u001b[0mX_te\u001b[0m\u001b[1;33m.\u001b[0m\u001b[0mreshape\u001b[0m\u001b[1;33m(\u001b[0m\u001b[1;36m26032\u001b[0m\u001b[1;33m,\u001b[0m \u001b[1;36m32\u001b[0m\u001b[1;33m*\u001b[0m\u001b[1;36m32\u001b[0m\u001b[1;33m*\u001b[0m\u001b[1;36m1\u001b[0m\u001b[1;33m)\u001b[0m\u001b[1;33m\u001b[0m\u001b[1;33m\u001b[0m\u001b[0m\n",
      "\u001b[1;31mValueError\u001b[0m: cannot reshape array of size 2048000 into shape (73257,1024)"
     ]
    }
   ],
   "source": [
    "X_tr_resized = X_tr.reshape(73257, 32*32*1)\n",
    "X_te_resized = X_te.reshape(26032, 32*32*1)"
   ]
  },
  {
   "cell_type": "code",
   "execution_count": null,
   "metadata": {},
   "outputs": [],
   "source": [
    "from sklearn.preprocessing import StandardScaler\n",
    "sc_X = StandardScaler()\n",
    "X_tr = sc_X.fit_transform(X_tr_resized)\n",
    "X_te = sc_X.transform(X_te_resized)"
   ]
  },
  {
   "cell_type": "code",
   "execution_count": null,
   "metadata": {},
   "outputs": [],
   "source": [
    "# create train and test set\n",
    "train_images = X_tr\n",
    "test_images = X_te\n",
    "train_labels = y_tr\n",
    "test_labels = y_te"
   ]
  },
  {
   "cell_type": "code",
   "execution_count": null,
   "metadata": {},
   "outputs": [],
   "source": [
    "# print max values to scale the values \n",
    "print(np.max(train_images))\n",
    "print(np.max(test_images))"
   ]
  },
  {
   "cell_type": "code",
   "execution_count": null,
   "metadata": {},
   "outputs": [],
   "source": [
    "# normalize the values between 0 to 1\n",
    "# train_images, test_images = train_images / 255.0, test_images / 255.0"
   ]
  },
  {
   "cell_type": "code",
   "execution_count": null,
   "metadata": {
    "scrolled": true
   },
   "outputs": [],
   "source": [
    "#CNN model define the 3 layers \n",
    "# the first two convolutional layers are followed by a MaxPooling where the size of the output is reduced\n",
    "# 3 by 3 is standard filter size in CNN, and 32/64/128 are the standard output channel depths, by convention the latter layers have more depth\n",
    "model = models.Sequential()\n",
    "model.add(layers.Conv2D(64, (3, 3), input_shape=(1)))\n",
    "model.add(layers.LeakyReLU(alpha=0.1))\n",
    "model.add(layers.MaxPooling2D((2, 2)))\n",
    "model.add(layers.Conv2D(128, (3, 3)))\n",
    "model.add(layers.LeakyReLU(alpha=0.1))\n",
    "model.add(layers.MaxPooling2D((2, 2)))\n",
    "model.add(layers.Conv2D(128, (3, 3)))\n",
    "model.add(layers.LeakyReLU(alpha=0.1))\n",
    "model.add(layers.MaxPooling2D((2, 2)))\n",
    "model.summary()"
   ]
  },
  {
   "cell_type": "code",
   "execution_count": null,
   "metadata": {
    "scrolled": true
   },
   "outputs": [],
   "source": [
    "# define dense layer array\n",
    "model.add(layers.Flatten())\n",
    "model.add(layers.Dense(64, activation='relu'))\n",
    "model.add(layers.Dropout(0.4))#it is found that dropout=0.4 peforms best\n",
    "#model.add(layers.LeakyReLU(alpha=0.1)) , it is found the this dense layer performs better with relu rather than leaky relu\n",
    "model.add(layers.Dense(10, activation='softmax'))\n",
    "model.summary()"
   ]
  },
  {
   "cell_type": "code",
   "execution_count": null,
   "metadata": {
    "scrolled": true
   },
   "outputs": [],
   "source": [
    "# compile model and train the dataset\n",
    "model.compile(optimizer='adam',\n",
    "              loss='sparse_categorical_crossentropy',\n",
    "              metrics=['accuracy'])\n",
    "\n",
    "model.fit(train_images, train_labels, epochs=10)\n"
   ]
  },
  {
   "cell_type": "code",
   "execution_count": null,
   "metadata": {},
   "outputs": [],
   "source": [
    "# testing\n",
    "test_loss, test_acc = model.evaluate(test_images, test_labels)\n"
   ]
  },
  {
   "cell_type": "code",
   "execution_count": null,
   "metadata": {},
   "outputs": [],
   "source": [
    "# testing accuracy output\n",
    "print(test_acc)\n"
   ]
  },
  {
   "cell_type": "code",
   "execution_count": null,
   "metadata": {},
   "outputs": [],
   "source": [
    "#Check the softmax distribution for each category for the first 10 images and print their labels\n",
    "output = model.predict(test_images[:10])\n",
    "print(output)\n",
    "print(np.argmax(output, axis=1))"
   ]
  },
  {
   "cell_type": "code",
   "execution_count": null,
   "metadata": {},
   "outputs": [],
   "source": [
    "# view 10 test images to make sure they actually match their labels printed above, and they do! yay!\n",
    "X_orig_tr = data['X']\n",
    "X_orig_te = te_data['X']\n",
    "\n",
    "for i in range(0,10):\n",
    "    show_img = X_te[i].reshape((32,32))\n",
    "    print(show_img.shape,y_te[i])\n",
    "    plt.imshow(show_img)\n",
    "    plt.show()\n"
   ]
  }
 ],
 "metadata": {
  "kernelspec": {
   "display_name": "Python 3",
   "language": "python",
   "name": "python3"
  },
  "language_info": {
   "codemirror_mode": {
    "name": "ipython",
    "version": 3
   },
   "file_extension": ".py",
   "mimetype": "text/x-python",
   "name": "python",
   "nbconvert_exporter": "python",
   "pygments_lexer": "ipython3",
   "version": "3.7.3"
  }
 },
 "nbformat": 4,
 "nbformat_minor": 2
}
